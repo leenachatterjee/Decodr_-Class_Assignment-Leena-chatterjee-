{
 "cells": [
  {
   "cell_type": "markdown",
   "metadata": {
    "id": "S2q1kcBa8gJi"
   },
   "source": [
    "**[Slide No. 5]**\n",
    "\n",
    "1. Write a Program to check the version numpy installed ."
   ]
  },
  {
   "cell_type": "code",
   "execution_count": 1,
   "metadata": {
    "id": "0pzz-uEB2-jm"
   },
   "outputs": [
    {
     "name": "stdout",
     "output_type": "stream",
     "text": [
      "1.20.1\n"
     ]
    }
   ],
   "source": [
    "import numpy\n",
    "print(numpy.__version__)"
   ]
  },
  {
   "cell_type": "markdown",
   "metadata": {
    "id": "zK4zuLVaTsgh"
   },
   "source": [
    "**[Slide No . 8]**\n",
    "\n",
    "2. Write a program to create numpy 1-D array from list."
   ]
  },
  {
   "cell_type": "code",
   "execution_count": 2,
   "metadata": {
    "id": "fjowgtmX29ky"
   },
   "outputs": [
    {
     "data": {
      "text/plain": [
       "array([[ 6,  7,  8,  9, 10, 12]])"
      ]
     },
     "execution_count": 2,
     "metadata": {},
     "output_type": "execute_result"
    }
   ],
   "source": [
    "import numpy as np\n",
    "sample_list=[6,7,8,9,10,12]\n",
    "b=np.array([sample_list])\n",
    "b"
   ]
  },
  {
   "cell_type": "markdown",
   "metadata": {
    "id": "fC_NvOu38rZ2"
   },
   "source": [
    "**[Slide No. 9]**\n",
    "\n",
    "3. Write a program to Create a 2-D array ."
   ]
  },
  {
   "cell_type": "code",
   "execution_count": 8,
   "metadata": {
    "id": "ycA0fqmr26Zn"
   },
   "outputs": [
    {
     "data": {
      "text/plain": [
       "array([[ 6,  7],\n",
       "       [ 8,  9],\n",
       "       [10, 12]])"
      ]
     },
     "execution_count": 8,
     "metadata": {},
     "output_type": "execute_result"
    }
   ],
   "source": [
    "b.reshape(3,2)"
   ]
  },
  {
   "cell_type": "code",
   "execution_count": 13,
   "metadata": {},
   "outputs": [],
   "source": [
    "A=np.array([1,8,3,4])"
   ]
  },
  {
   "cell_type": "code",
   "execution_count": 14,
   "metadata": {},
   "outputs": [
    {
     "data": {
      "text/plain": [
       "array([[1, 8],\n",
       "       [3, 4]])"
      ]
     },
     "execution_count": 14,
     "metadata": {},
     "output_type": "execute_result"
    }
   ],
   "source": [
    "B = np.reshape(A, (-1, 2))\n",
    "B"
   ]
  },
  {
   "cell_type": "markdown",
   "metadata": {
    "id": "CkuOePHX9QDs"
   },
   "source": [
    "**[Slide No . 11]**\n",
    "\n",
    "5. a=np.array([(1,2,3,4),(3,4,5,6),(7,8,9,10)])\n",
    "\n",
    "\n",
    "\n",
    "What is the output [5 9] ?"
   ]
  },
  {
   "cell_type": "code",
   "execution_count": null,
   "metadata": {
    "id": "WurFjZS525JP"
   },
   "outputs": [],
   "source": []
  },
  {
   "cell_type": "markdown",
   "metadata": {
    "id": "qJFd9Aj79c48"
   },
   "source": [
    "**[Slide No.15]**\n",
    "\n",
    "6. Correct the program .\n",
    "\n",
    "import numpy as np\n",
    "\n",
    "array=np.array([1,2,3,4,5,6])\n",
    "\n",
    "print(array[-1:-5])"
   ]
  },
  {
   "cell_type": "code",
   "execution_count": 3,
   "metadata": {
    "colab": {
     "base_uri": "https://localhost:8080/"
    },
    "executionInfo": {
     "elapsed": 367,
     "status": "ok",
     "timestamp": 1627134427734,
     "user": {
      "displayName": "Rohit Reddy",
      "photoUrl": "",
      "userId": "02730466121517960450"
     },
     "user_tz": -330
    },
    "id": "TuvlrBQH23Wo",
    "outputId": "06870722-c3d6-41a6-f3ff-9d8c7e74d2ae"
   },
   "outputs": [
    {
     "name": "stdout",
     "output_type": "stream",
     "text": [
      "[3 4 5]\n"
     ]
    }
   ],
   "source": [
    "array = np.array([1,2,3,4,5,6])\n",
    "\n",
    "print(array[-4:-1])"
   ]
  },
  {
   "cell_type": "markdown",
   "metadata": {
    "id": "ZKKUIxjX9qVE"
   },
   "source": [
    "7. a=np.array([(1,5,9),(10,12,2),(5,7,8)])\n",
    "\n",
    "\n",
    "Print the max value from first row ?\n",
    "\n",
    "print min value from the first row ?\n",
    "\n",
    "print the sum of all the element of second row ?\n",
    "\n",
    "\n"
   ]
  },
  {
   "cell_type": "code",
   "execution_count": null,
   "metadata": {},
   "outputs": [],
   "source": []
  },
  {
   "cell_type": "code",
   "execution_count": 5,
   "metadata": {
    "colab": {
     "base_uri": "https://localhost:8080/"
    },
    "executionInfo": {
     "elapsed": 366,
     "status": "ok",
     "timestamp": 1627132903237,
     "user": {
      "displayName": "Rohit Reddy",
      "photoUrl": "",
      "userId": "02730466121517960450"
     },
     "user_tz": -330
    },
    "id": "hPepOJE022Sg",
    "outputId": "31669940-9ed1-422a-8866-2a220d170358"
   },
   "outputs": [
    {
     "data": {
      "text/plain": [
       "array([[ 1,  5,  9],\n",
       "       [10, 12,  2],\n",
       "       [ 5,  7,  8]])"
      ]
     },
     "execution_count": 5,
     "metadata": {},
     "output_type": "execute_result"
    }
   ],
   "source": [
    "a=np.array([(1,5,9),(10,12,2),(5,7,8)])\n",
    "a"
   ]
  },
  {
   "cell_type": "code",
   "execution_count": 7,
   "metadata": {},
   "outputs": [
    {
     "data": {
      "text/plain": [
       "9"
      ]
     },
     "execution_count": 7,
     "metadata": {},
     "output_type": "execute_result"
    }
   ],
   "source": [
    "a[0].max()"
   ]
  },
  {
   "cell_type": "code",
   "execution_count": 8,
   "metadata": {},
   "outputs": [
    {
     "data": {
      "text/plain": [
       "2"
      ]
     },
     "execution_count": 8,
     "metadata": {},
     "output_type": "execute_result"
    }
   ],
   "source": [
    "a[1].min()"
   ]
  },
  {
   "cell_type": "code",
   "execution_count": 9,
   "metadata": {},
   "outputs": [
    {
     "data": {
      "text/plain": [
       "24"
      ]
     },
     "execution_count": 9,
     "metadata": {},
     "output_type": "execute_result"
    }
   ],
   "source": [
    "a[1].sum()"
   ]
  },
  {
   "cell_type": "code",
   "execution_count": 11,
   "metadata": {
    "colab": {
     "base_uri": "https://localhost:8080/"
    },
    "executionInfo": {
     "elapsed": 359,
     "status": "ok",
     "timestamp": 1627133636337,
     "user": {
      "displayName": "Rohit Reddy",
      "photoUrl": "",
      "userId": "02730466121517960450"
     },
     "user_tz": -330
    },
    "id": "z1I_sNzErnjh",
    "outputId": "c01eedfb-e0b6-441d-a0f7-c14abc2b3d99"
   },
   "outputs": [
    {
     "data": {
      "text/plain": [
       "array([[[[2, 8, 6, 4],\n",
       "         [7, 6, 3, 8],\n",
       "         [2, 3, 2, 2]],\n",
       "\n",
       "        [[5, 7, 3, 7],\n",
       "         [4, 7, 3, 2],\n",
       "         [4, 6, 2, 4]]],\n",
       "\n",
       "\n",
       "       [[[6, 7, 7, 5],\n",
       "         [3, 3, 2, 8],\n",
       "         [5, 6, 3, 6]],\n",
       "\n",
       "        [[7, 6, 4, 6],\n",
       "         [6, 3, 6, 3],\n",
       "         [2, 5, 6, 5]]],\n",
       "\n",
       "\n",
       "       [[[6, 8, 7, 4],\n",
       "         [8, 3, 3, 4],\n",
       "         [4, 4, 7, 2]],\n",
       "\n",
       "        [[2, 5, 8, 6],\n",
       "         [8, 2, 4, 3],\n",
       "         [5, 2, 3, 4]]]])"
      ]
     },
     "execution_count": 11,
     "metadata": {},
     "output_type": "execute_result"
    }
   ],
   "source": [
    "import numpy as np\n",
    "np1=np.random.randint(2,9,(3,2,3,4))\n",
    "np1\n"
   ]
  },
  {
   "cell_type": "code",
   "execution_count": 16,
   "metadata": {
    "colab": {
     "base_uri": "https://localhost:8080/"
    },
    "executionInfo": {
     "elapsed": 350,
     "status": "ok",
     "timestamp": 1627133400691,
     "user": {
      "displayName": "Rohit Reddy",
      "photoUrl": "",
      "userId": "02730466121517960450"
     },
     "user_tz": -330
    },
    "id": "d40-fZdur8yk",
    "outputId": "a365e5cc-9728-4a8d-885c-68a09b069bb8"
   },
   "outputs": [
    {
     "data": {
      "text/plain": [
       "array([[5, 7, 3, 7],\n",
       "       [4, 7, 3, 2],\n",
       "       [4, 6, 2, 4]])"
      ]
     },
     "execution_count": 16,
     "metadata": {},
     "output_type": "execute_result"
    }
   ],
   "source": [
    "np1[0][1]"
   ]
  },
  {
   "cell_type": "markdown",
   "metadata": {
    "id": "FJdOezKt-NUS"
   },
   "source": [
    "**[Slide No. 16]**\n",
    "\n",
    "\n",
    "8. Create a numpy array using a below numbers and print (1,3,5).\n",
    "\n",
    "[1,2,3,4,5,6]\n",
    "\n",
    "\n"
   ]
  },
  {
   "cell_type": "code",
   "execution_count": 20,
   "metadata": {},
   "outputs": [
    {
     "data": {
      "text/plain": [
       "[1, 3, 5]"
      ]
     },
     "execution_count": 20,
     "metadata": {},
     "output_type": "execute_result"
    }
   ],
   "source": [
    "a=[1,2,3,4,5,6]\n",
    "a[0:5:2]"
   ]
  },
  {
   "cell_type": "code",
   "execution_count": null,
   "metadata": {
    "id": "gxNZwQ4o20sw"
   },
   "outputs": [],
   "source": [
    "i%2==1"
   ]
  },
  {
   "cell_type": "markdown",
   "metadata": {
    "id": "LbuqYrP_XAsI"
   },
   "source": [
    "**[Slide No. 18]**\n",
    "\n",
    "9. Create a  [3,4] numpy array and reshape it [4,3] numpy array."
   ]
  },
  {
   "cell_type": "code",
   "execution_count": 25,
   "metadata": {},
   "outputs": [
    {
     "data": {
      "text/plain": [
       "array([[0.56867294, 0.10250926, 0.04663409, 0.6840817 ],\n",
       "       [0.83732978, 0.39936573, 0.28511078, 0.42268473],\n",
       "       [0.58535554, 0.3168733 , 0.15431376, 0.06583718]])"
      ]
     },
     "execution_count": 25,
     "metadata": {},
     "output_type": "execute_result"
    }
   ],
   "source": [
    "b=np.random.rand(3,4)\n",
    "b"
   ]
  },
  {
   "cell_type": "code",
   "execution_count": 26,
   "metadata": {
    "id": "Mb5azoZH2xCw"
   },
   "outputs": [
    {
     "data": {
      "text/plain": [
       "array([[0.56867294, 0.10250926, 0.04663409],\n",
       "       [0.6840817 , 0.83732978, 0.39936573],\n",
       "       [0.28511078, 0.42268473, 0.58535554],\n",
       "       [0.3168733 , 0.15431376, 0.06583718]])"
      ]
     },
     "execution_count": 26,
     "metadata": {},
     "output_type": "execute_result"
    }
   ],
   "source": [
    "b.reshape(4,3)"
   ]
  },
  {
   "cell_type": "markdown",
   "metadata": {
    "id": "GyzvTjl-XSVo"
   },
   "source": [
    "**[Slide No. 20]**\n",
    "\n",
    "10. Create two numpy array and concanate them ."
   ]
  },
  {
   "cell_type": "code",
   "execution_count": 10,
   "metadata": {
    "id": "o6cs23YV2us8"
   },
   "outputs": [
    {
     "data": {
      "text/plain": [
       "array([[1, 2],\n",
       "       [3, 4],\n",
       "       [5, 6]])"
      ]
     },
     "execution_count": 10,
     "metadata": {},
     "output_type": "execute_result"
    }
   ],
   "source": [
    "a = np.array([[1, 2], [3, 4]])\n",
    "b = np.array([[5, 6]])\n",
    "np.concatenate((a, b), axis=0)"
   ]
  },
  {
   "cell_type": "markdown",
   "metadata": {
    "id": "Ryfjekb7Xlyq"
   },
   "source": [
    "**[Slide No.22]**\n",
    "\n",
    "11. Create numpy array and search a number in it ."
   ]
  },
  {
   "cell_type": "code",
   "execution_count": 11,
   "metadata": {
    "colab": {
     "base_uri": "https://localhost:8080/"
    },
    "executionInfo": {
     "elapsed": 359,
     "status": "ok",
     "timestamp": 1627133847900,
     "user": {
      "displayName": "Rohit Reddy",
      "photoUrl": "",
      "userId": "02730466121517960450"
     },
     "user_tz": -330
    },
    "id": "qgKgB9Dg2rz9",
    "outputId": "4aef8c6b-0b54-4453-d910-826f577fc4c8"
   },
   "outputs": [
    {
     "data": {
      "text/plain": [
       "(array([4], dtype=int64),)"
      ]
     },
     "execution_count": 11,
     "metadata": {},
     "output_type": "execute_result"
    }
   ],
   "source": [
    "a=np.arange(0,5)\n",
    "np.where(a==4)"
   ]
  },
  {
   "cell_type": "markdown",
   "metadata": {
    "id": "_B4fxCpkYVbw"
   },
   "source": [
    "**[Slide No.26]**\n",
    "\n",
    "12. Write a program to print 3,4 numpy array by any random number using random.randint function"
   ]
  },
  {
   "cell_type": "code",
   "execution_count": 23,
   "metadata": {
    "id": "VwAdiVxaSEmC"
   },
   "outputs": [
    {
     "data": {
      "text/plain": [
       "array([[0.40213394, 0.91198008, 0.08099068, 0.86472866],\n",
       "       [0.67652221, 0.74518359, 0.12901953, 0.37443763],\n",
       "       [0.53115907, 0.14953623, 0.19601372, 0.03519332]])"
      ]
     },
     "execution_count": 23,
     "metadata": {},
     "output_type": "execute_result"
    }
   ],
   "source": [
    "x=np.random.rand(3,4)\n",
    "x"
   ]
  },
  {
   "cell_type": "markdown",
   "metadata": {
    "id": "DS48jubBY92B"
   },
   "source": [
    "**[Slide No. 30]**\n",
    "\n",
    "13. Write a program to add two numpy array."
   ]
  },
  {
   "cell_type": "code",
   "execution_count": null,
   "metadata": {
    "id": "GtyiF81f2ptx"
   },
   "outputs": [],
   "source": []
  },
  {
   "cell_type": "markdown",
   "metadata": {
    "id": "UddB37a0-mWx"
   },
   "source": [
    "14. Delete the second column from a given array and insert the following new column in its place.\n",
    "\n",
    "sampleArray = numpy.array([[34,43,73],[82,22,12],[53,94,66]]) \n",
    "\n",
    "newColumn = numpy.array([[10,10,10]])"
   ]
  },
  {
   "cell_type": "code",
   "execution_count": 12,
   "metadata": {
    "executionInfo": {
     "elapsed": 5,
     "status": "ok",
     "timestamp": 1627132419872,
     "user": {
      "displayName": "Rohit Reddy",
      "photoUrl": "",
      "userId": "02730466121517960450"
     },
     "user_tz": -330
    },
    "id": "a1ENVEHd2nab"
   },
   "outputs": [],
   "source": [
    "import numpy as np\n"
   ]
  },
  {
   "cell_type": "code",
   "execution_count": 16,
   "metadata": {
    "colab": {
     "base_uri": "https://localhost:8080/"
    },
    "executionInfo": {
     "elapsed": 359,
     "status": "ok",
     "timestamp": 1627134670638,
     "user": {
      "displayName": "Rohit Reddy",
      "photoUrl": "",
      "userId": "02730466121517960450"
     },
     "user_tz": -330
    },
    "id": "tt-6WJfjphat",
    "outputId": "c0961764-f475-450e-c01f-974c6b303fba"
   },
   "outputs": [
    {
     "name": "stdout",
     "output_type": "stream",
     "text": [
      "[[34 43 73]\n",
      " [53 94 66]]\n"
     ]
    }
   ],
   "source": [
    "sampleArray = np.array([[34,43,73],[82,22,12],[53,94,66]])\n",
    "newColumn = np.array([[10,10,10]])\n",
    "sampleArray = np.delete(sampleArray, 1, axis = 0)\n",
    "print(sampleArray)\n"
   ]
  },
  {
   "cell_type": "code",
   "execution_count": 17,
   "metadata": {},
   "outputs": [
    {
     "name": "stdout",
     "output_type": "stream",
     "text": [
      "[[34 43 73]\n",
      " [10 10 10]\n",
      " [53 94 66]]\n"
     ]
    }
   ],
   "source": [
    "sampleArray = np.insert(sampleArray, 1, newColumn, axis = 0)\n",
    "print(sampleArray)\n"
   ]
  },
  {
   "cell_type": "code",
   "execution_count": 7,
   "metadata": {
    "colab": {
     "base_uri": "https://localhost:8080/"
    },
    "executionInfo": {
     "elapsed": 380,
     "status": "ok",
     "timestamp": 1627134726611,
     "user": {
      "displayName": "Rohit Reddy",
      "photoUrl": "",
      "userId": "02730466121517960450"
     },
     "user_tz": -330
    },
    "id": "fL6Z08EXyF_e",
    "outputId": "72084633-16b5-4fce-e77b-b33eba97607d"
   },
   "outputs": [
    {
     "data": {
      "text/plain": [
       "array([[34, 43, 73],\n",
       "       [82, 22, 12],\n",
       "       [53, 94, 66]])"
      ]
     },
     "execution_count": 7,
     "metadata": {},
     "output_type": "execute_result"
    }
   ],
   "source": [
    "sampleArray = np.array([[34,43,73],[82,22,12],[53,94,66]])\n",
    "sampleArray"
   ]
  },
  {
   "cell_type": "code",
   "execution_count": 8,
   "metadata": {
    "executionInfo": {
     "elapsed": 373,
     "status": "ok",
     "timestamp": 1627134753755,
     "user": {
      "displayName": "Rohit Reddy",
      "photoUrl": "",
      "userId": "02730466121517960450"
     },
     "user_tz": -330
    },
    "id": "U8iNvoX8yY3z"
   },
   "outputs": [],
   "source": [
    "sampleArray[:,1]=[10,10,10]"
   ]
  },
  {
   "cell_type": "code",
   "execution_count": 9,
   "metadata": {
    "colab": {
     "base_uri": "https://localhost:8080/"
    },
    "executionInfo": {
     "elapsed": 353,
     "status": "ok",
     "timestamp": 1627134758343,
     "user": {
      "displayName": "Rohit Reddy",
      "photoUrl": "",
      "userId": "02730466121517960450"
     },
     "user_tz": -330
    },
    "id": "J0U-4-AwyfgV",
    "outputId": "39c2ee95-88a2-47a0-f04f-e5c0707a14b6"
   },
   "outputs": [
    {
     "data": {
      "text/plain": [
       "array([[34, 10, 73],\n",
       "       [82, 10, 12],\n",
       "       [53, 10, 66]])"
      ]
     },
     "execution_count": 9,
     "metadata": {},
     "output_type": "execute_result"
    }
   ],
   "source": [
    "sampleArray"
   ]
  },
  {
   "cell_type": "code",
   "execution_count": null,
   "metadata": {
    "id": "515eWYTRygoQ"
   },
   "outputs": [],
   "source": []
  }
 ],
 "metadata": {
  "colab": {
   "collapsed_sections": [],
   "name": "Numpy_ass.ipynb",
   "provenance": []
  },
  "kernelspec": {
   "display_name": "Python 3",
   "language": "python",
   "name": "python3"
  },
  "language_info": {
   "codemirror_mode": {
    "name": "ipython",
    "version": 3
   },
   "file_extension": ".py",
   "mimetype": "text/x-python",
   "name": "python",
   "nbconvert_exporter": "python",
   "pygments_lexer": "ipython3",
   "version": "3.8.8"
  }
 },
 "nbformat": 4,
 "nbformat_minor": 1
}
