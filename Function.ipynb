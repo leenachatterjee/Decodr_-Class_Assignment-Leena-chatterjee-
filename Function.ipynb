{
 "cells": [
  {
   "cell_type": "markdown",
   "metadata": {
    "id": "VtM_1fUHQZjs"
   },
   "source": [
    "**[Slide No.69]**\n",
    "\n",
    "1. Write a function to print Hello world! ."
   ]
  },
  {
   "cell_type": "code",
   "execution_count": 5,
   "metadata": {
    "colab": {
     "base_uri": "https://localhost:8080/"
    },
    "executionInfo": {
     "elapsed": 816,
     "status": "ok",
     "timestamp": 1621154960042,
     "user": {
      "displayName": "Decodr Academy",
      "photoUrl": "",
      "userId": "02634807145547483916"
     },
     "user_tz": 420
    },
    "id": "EKM-gZ1eVDx6",
    "outputId": "9fd7f94b-2fe4-49a9-9762-3d6f0de059be"
   },
   "outputs": [
    {
     "name": "stdout",
     "output_type": "stream",
     "text": [
      "hello world!\n"
     ]
    }
   ],
   "source": [
    "def hello():\n",
    "  print(\"hello world!\")\n",
    "hello()"
   ]
  },
  {
   "cell_type": "markdown",
   "metadata": {
    "id": "AEytpP9-QZnm"
   },
   "source": [
    "**[Slide No. 69]**\n",
    "\n",
    "2. Write a function to print  Hello four times ."
   ]
  },
  {
   "cell_type": "code",
   "execution_count": 46,
   "metadata": {
    "colab": {
     "base_uri": "https://localhost:8080/"
    },
    "executionInfo": {
     "elapsed": 1143,
     "status": "ok",
     "timestamp": 1621161568994,
     "user": {
      "displayName": "Decodr Academy",
      "photoUrl": "",
      "userId": "02634807145547483916"
     },
     "user_tz": 420
    },
    "id": "Cf298M9lVEnK",
    "outputId": "a517ceed-7a62-4878-8d80-bc2a72ef2b9e"
   },
   "outputs": [
    {
     "name": "stdout",
     "output_type": "stream",
     "text": [
      "Hello world!  \n",
      "Hello world!  \n",
      "Hello world!  \n",
      "Hello world!  \n"
     ]
    }
   ],
   "source": [
    "def helo(Name):\n",
    "  for i in range(4):\n",
    "    print(Name)\n",
    "helo(\"Hello world!  \")"
   ]
  },
  {
   "cell_type": "markdown",
   "metadata": {
    "id": "Muh15NjoQZqU"
   },
   "source": [
    "**[Slide No. 69]**\n",
    "\n",
    "3. Write a function to find the diff, add , mul of two numbers."
   ]
  },
  {
   "cell_type": "code",
   "execution_count": 14,
   "metadata": {
    "colab": {
     "base_uri": "https://localhost:8080/"
    },
    "executionInfo": {
     "elapsed": 1147,
     "status": "ok",
     "timestamp": 1621155468124,
     "user": {
      "displayName": "Decodr Academy",
      "photoUrl": "",
      "userId": "02634807145547483916"
     },
     "user_tz": 420
    },
    "id": "jjD-DaO2VFNg",
    "outputId": "99c5b526-df87-414a-c2b8-dc32d785d3a4"
   },
   "outputs": [
    {
     "data": {
      "text/plain": [
       "(1, 9, 20)"
      ]
     },
     "execution_count": 14,
     "metadata": {
      "tags": []
     },
     "output_type": "execute_result"
    }
   ],
   "source": [
    "def cal(num1,num2):\n",
    "  diff=num1-num2\n",
    "  sum=num1+num2\n",
    "  mul=num1*num2\n",
    "  return diff,sum,mul\n",
    "\n",
    "cal(5,4)"
   ]
  },
  {
   "cell_type": "markdown",
   "metadata": {
    "id": "YxdYhJt_QZso"
   },
   "source": [
    "**[Slide No. 69]**\n",
    "\n",
    " 4. Write the function to find the factorial of a number ."
   ]
  },
  {
   "cell_type": "code",
   "execution_count": 47,
   "metadata": {
    "colab": {
     "base_uri": "https://localhost:8080/"
    },
    "executionInfo": {
     "elapsed": 95093,
     "status": "ok",
     "timestamp": 1621162371987,
     "user": {
      "displayName": "Decodr Academy",
      "photoUrl": "",
      "userId": "02634807145547483916"
     },
     "user_tz": 420
    },
    "id": "1ia_-ARNVFxp",
    "outputId": "eda10f87-7303-4b66-fdc4-7e8c6467b029"
   },
   "outputs": [
    {
     "name": "stdout",
     "output_type": "stream",
     "text": [
      "Input a number to compute the factiorial : 7\n",
      "5040\n"
     ]
    }
   ],
   "source": [
    "def factorial(n):\n",
    "    if n == 0:\n",
    "        return 1\n",
    "    else:\n",
    "        return n * factorial(n-1)\n",
    "n=int(input(\"Input a number to compute the factiorial : \"))\n",
    "print(factorial(n))"
   ]
  },
  {
   "cell_type": "markdown",
   "metadata": {
    "id": "DSKYQlqEQZwq"
   },
   "source": [
    "**[Slide No. 69]**\n",
    "\n",
    "5. Write a function to find the square of a number "
   ]
  },
  {
   "cell_type": "code",
   "execution_count": 48,
   "metadata": {
    "colab": {
     "base_uri": "https://localhost:8080/"
    },
    "executionInfo": {
     "elapsed": 1060,
     "status": "ok",
     "timestamp": 1621162602475,
     "user": {
      "displayName": "Decodr Academy",
      "photoUrl": "",
      "userId": "02634807145547483916"
     },
     "user_tz": 420
    },
    "id": "H1Sh5fCGVGxI",
    "outputId": "089d212d-2d92-455f-a7fb-fd98464e079b"
   },
   "outputs": [
    {
     "name": "stdout",
     "output_type": "stream",
     "text": [
      "4\n"
     ]
    }
   ],
   "source": [
    "def sqr(n):\n",
    "    S=n*n\n",
    "    print(S)\n",
    "sqr(2)\n"
   ]
  },
  {
   "cell_type": "code",
   "execution_count": 49,
   "metadata": {
    "colab": {
     "base_uri": "https://localhost:8080/"
    },
    "executionInfo": {
     "elapsed": 6157,
     "status": "ok",
     "timestamp": 1621162619760,
     "user": {
      "displayName": "Decodr Academy",
      "photoUrl": "",
      "userId": "02634807145547483916"
     },
     "user_tz": 420
    },
    "id": "7VGO_EYM0eTH",
    "outputId": "11880493-2469-4e20-b90a-db99e0b7c7d1"
   },
   "outputs": [
    {
     "name": "stdout",
     "output_type": "stream",
     "text": [
      "Enter a num5\n",
      "The square root of  5 is  25\n"
     ]
    }
   ],
   "source": [
    "def sq():\n",
    "    num=int(input(\"Enter a num\"))\n",
    "    p=num*num\n",
    "    print(\"The square root of \",num,\"is \",p)\n",
    "sq()\n"
   ]
  },
  {
   "cell_type": "code",
   "execution_count": 50,
   "metadata": {
    "colab": {
     "base_uri": "https://localhost:8080/"
    },
    "executionInfo": {
     "elapsed": 12400,
     "status": "ok",
     "timestamp": 1621162665126,
     "user": {
      "displayName": "Decodr Academy",
      "photoUrl": "",
      "userId": "02634807145547483916"
     },
     "user_tz": 420
    },
    "id": "8asn-ePx0uAC",
    "outputId": "4cd0e144-238c-4a38-af0b-7e0efbac25ea"
   },
   "outputs": [
    {
     "name": "stdout",
     "output_type": "stream",
     "text": [
      "6\n",
      "36\n"
     ]
    }
   ],
   "source": [
    "square=lambda a:a*a\n",
    "num=int(input())    # Taking Input from the user        5\n",
    "print(square(num))   # we passing num bariable in our lambda functiom\n",
    "\n"
   ]
  },
  {
   "cell_type": "code",
   "execution_count": 3,
   "metadata": {
    "id": "jUYHpxnoT9Ef"
   },
   "outputs": [
    {
     "name": "stdout",
     "output_type": "stream",
     "text": [
      "200\n",
      "700\n"
     ]
    }
   ],
   "source": [
    "\n",
    "\n",
    "#6. Write the output of the program \n",
    "\n",
    "def funct5(par1, par2 = None):\n",
    "\n",
    "    if par2 is None:\n",
    "\n",
    "        return par1 + par1\n",
    "\n",
    "    else:\n",
    "    \n",
    "        return par1 + par2\n",
    "\n",
    "print (funct5(100))\n",
    "\n",
    "print (funct5(100, 600))"
   ]
  },
  {
   "cell_type": "code",
   "execution_count": null,
   "metadata": {
    "id": "ykweYlFJVHiJ"
   },
   "outputs": [],
   "source": []
  },
  {
   "cell_type": "code",
   "execution_count": 5,
   "metadata": {
    "id": "L6ZgTkCpURrD"
   },
   "outputs": [
    {
     "name": "stdout",
     "output_type": "stream",
     "text": [
      "8\n"
     ]
    }
   ],
   "source": [
    "\n",
    "\n",
    "#7. Find output of the programm\n",
    "\n",
    "a=2\n",
    "\n",
    "a=5\n",
    "\n",
    "a=8\n",
    "\n",
    "print(a)\n",
    "\n"
   ]
  },
  {
   "cell_type": "code",
   "execution_count": 6,
   "metadata": {},
   "outputs": [
    {
     "name": "stdout",
     "output_type": "stream",
     "text": [
      "par1 = 100, par2 = 200 and par3 = 300\n",
      "par1 = 100, par2 = 200 and par3 = 333\n",
      "par1 = 100, par2 = 222 and par3 = 333\n",
      "par1 = 111, par2 = 222 and par3 = 333\n",
      "par1 = 100, par2 = 222 and par3 = 300\n",
      "par1 = 100, par2 = 222 and par3 = 300\n",
      "par1 = hi, par2 = 100 and par3 = 99\n",
      "par1 = hi, par2 = 100 and par3 = 99\n"
     ]
    }
   ],
   "source": [
    "#example demonstration on position parameters with default arguments...\n",
    "\n",
    "def funct4(par1 = 111, par2 = 222, par3 = 333):\n",
    "\n",
    "    print (f\"par1 = {par1}, par2 = {par2} and par3 = {par3}\")\n",
    "  \n",
    "funct4(100, 200, 300)\n",
    "\n",
    "funct4(100, 200)\n",
    "\n",
    "funct4(100)\n",
    "\n",
    "funct4()\n",
    "\n",
    "funct4(par1 = 100, par3 = 300)\n",
    "\n",
    "funct4(par3 = 300, par1 = 100)\n",
    "\n",
    "funct4(\"hi\",100,99)\n",
    "\n",
    "funct4(\"hi\",\"100\",\"99\")"
   ]
  },
  {
   "cell_type": "code",
   "execution_count": 59,
   "metadata": {
    "colab": {
     "base_uri": "https://localhost:8080/"
    },
    "executionInfo": {
     "elapsed": 1293,
     "status": "ok",
     "timestamp": 1621163569949,
     "user": {
      "displayName": "Decodr Academy",
      "photoUrl": "",
      "userId": "02634807145547483916"
     },
     "user_tz": 420
    },
    "id": "ceaOed9u3Msh",
    "outputId": "04f76884-9e9d-4474-fe2d-1c4017dad0ae"
   },
   "outputs": [
    {
     "name": "stdout",
     "output_type": "stream",
     "text": [
      "par1 = 222, par2 = 111 and par3 = 333\n"
     ]
    }
   ],
   "source": [
    "def funct4(par1 = 111, par2 = 222, par3 = 333):\n",
    "\n",
    "    print (f\"par1 = {par2}, par2 = {par1} and par3 = {par3}\")\n",
    "  \n",
    "funct4()\n",
    "\n"
   ]
  },
  {
   "cell_type": "markdown",
   "metadata": {
    "id": "yVUoKQsoV8d_"
   },
   "source": [
    "**[Slide No. 73]**\n",
    "\n",
    "8. Check the output of the program:\n",
    "\n",
    "myAdd = lambda x, y,z: x + y+z\n",
    "\n",
    "print (myAdd(6, 10,15))\n",
    "\n",
    "print (myAdd(7, 20,4))\n",
    "\n",
    "print (type(myAdd))"
   ]
  },
  {
   "cell_type": "code",
   "execution_count": 16,
   "metadata": {
    "colab": {
     "base_uri": "https://localhost:8080/"
    },
    "executionInfo": {
     "elapsed": 1153,
     "status": "ok",
     "timestamp": 1621155830873,
     "user": {
      "displayName": "Decodr Academy",
      "photoUrl": "",
      "userId": "02634807145547483916"
     },
     "user_tz": 420
    },
    "id": "WdB6_-JpVIpg",
    "outputId": "536bbe8e-d997-4735-a5e8-67722e3eba0f"
   },
   "outputs": [
    {
     "name": "stdout",
     "output_type": "stream",
     "text": [
      "31\n",
      "31\n",
      "<class 'function'>\n"
     ]
    }
   ],
   "source": [
    "myAdd = lambda x, y,z: x + y+z\n",
    "\n",
    "print (myAdd(6, 10,15))\n",
    "\n",
    "print (myAdd(7, 20,4))\n",
    "\n",
    "print (type(myAdd))"
   ]
  },
  {
   "cell_type": "code",
   "execution_count": 52,
   "metadata": {
    "colab": {
     "base_uri": "https://localhost:8080/"
    },
    "executionInfo": {
     "elapsed": 1016,
     "status": "ok",
     "timestamp": 1621162933326,
     "user": {
      "displayName": "Decodr Academy",
      "photoUrl": "",
      "userId": "02634807145547483916"
     },
     "user_tz": 420
    },
    "id": "d5DHT4BY1roS",
    "outputId": "2542a374-fbca-4247-9f71-44cac52790f8"
   },
   "outputs": [
    {
     "name": "stdout",
     "output_type": "stream",
     "text": [
      "6\n"
     ]
    }
   ],
   "source": [
    "add=lambda a,b,c:a+b+c\n",
    "print(add(1,2,3))\n",
    "\n"
   ]
  },
  {
   "cell_type": "markdown",
   "metadata": {
    "id": "LRC5kSgo2uqt"
   },
   "source": [
    "**[Slide No. 73]**\n",
    "\n",
    "9. Write a Python program to create a lambda function that adds 15 to a given number passed in as an argument."
   ]
  },
  {
   "cell_type": "code",
   "execution_count": 43,
   "metadata": {
    "colab": {
     "base_uri": "https://localhost:8080/"
    },
    "executionInfo": {
     "elapsed": 1108,
     "status": "ok",
     "timestamp": 1621156735003,
     "user": {
      "displayName": "Decodr Academy",
      "photoUrl": "",
      "userId": "02634807145547483916"
     },
     "user_tz": 420
    },
    "id": "ospsFibzcDiu",
    "outputId": "5ebedacc-da17-42d3-b825-c3b271bd16a3"
   },
   "outputs": [
    {
     "data": {
      "text/plain": [
       "22"
      ]
     },
     "execution_count": 43,
     "metadata": {
      "tags": []
     },
     "output_type": "execute_result"
    }
   ],
   "source": [
    "x=lambda num:num+15\n",
    "x(7)"
   ]
  },
  {
   "cell_type": "code",
   "execution_count": 54,
   "metadata": {
    "colab": {
     "base_uri": "https://localhost:8080/"
    },
    "executionInfo": {
     "elapsed": 5167,
     "status": "ok",
     "timestamp": 1621163154724,
     "user": {
      "displayName": "Decodr Academy",
      "photoUrl": "",
      "userId": "02634807145547483916"
     },
     "user_tz": 420
    },
    "id": "EdmElH3M2Z-l",
    "outputId": "254ad4af-a979-4e63-b51e-60c4c60eacdf"
   },
   "outputs": [
    {
     "name": "stdout",
     "output_type": "stream",
     "text": [
      "Enter the number6\n",
      "21\n"
     ]
    }
   ],
   "source": [
    "a= lambda x: x+15\n",
    "f= a(int(input(\"Enter the number\")))\n",
    "print(f)\n"
   ]
  },
  {
   "cell_type": "markdown",
   "metadata": {
    "id": "KaRTkOYQ3PYc"
   },
   "source": [
    "**[Slide No. 73]**\n",
    "\n",
    " 10. create a lambda function that multiplies argument x with argument y and print the result."
   ]
  },
  {
   "cell_type": "code",
   "execution_count": 42,
   "metadata": {
    "colab": {
     "base_uri": "https://localhost:8080/"
    },
    "executionInfo": {
     "elapsed": 1380,
     "status": "ok",
     "timestamp": 1621156698353,
     "user": {
      "displayName": "Decodr Academy",
      "photoUrl": "",
      "userId": "02634807145547483916"
     },
     "user_tz": 420
    },
    "id": "odEHY0np3YJ5",
    "outputId": "2a80b572-95c3-4841-c5c4-a5deaf3db786"
   },
   "outputs": [
    {
     "data": {
      "text/plain": [
       "30"
      ]
     },
     "execution_count": 42,
     "metadata": {
      "tags": []
     },
     "output_type": "execute_result"
    }
   ],
   "source": [
    "num=lambda x,y:x*y\n",
    "num(5,6)"
   ]
  },
  {
   "cell_type": "code",
   "execution_count": null,
   "metadata": {
    "id": "AI4cpLZPd-pH"
   },
   "outputs": [],
   "source": []
  }
 ],
 "metadata": {
  "colab": {
   "collapsed_sections": [],
   "name": "Function.ipynb",
   "provenance": []
  },
  "kernelspec": {
   "display_name": "Python 3",
   "language": "python",
   "name": "python3"
  },
  "language_info": {
   "codemirror_mode": {
    "name": "ipython",
    "version": 3
   },
   "file_extension": ".py",
   "mimetype": "text/x-python",
   "name": "python",
   "nbconvert_exporter": "python",
   "pygments_lexer": "ipython3",
   "version": "3.8.8"
  }
 },
 "nbformat": 4,
 "nbformat_minor": 1
}
