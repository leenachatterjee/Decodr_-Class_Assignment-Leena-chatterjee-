{
 "cells": [
  {
   "cell_type": "code",
   "execution_count": 6,
   "metadata": {
    "id": "zj0qj9Z3vGYT"
   },
   "outputs": [
    {
     "name": "stdout",
     "output_type": "stream",
     "text": [
      "the type of x is <class 'int'>\n",
      "the type of y is <class 'float'>\n",
      "the type of z is <class 'complex'>\n"
     ]
    }
   ],
   "source": [
    "# print the type of x,y,z\n",
    "\n",
    "x = 1  \n",
    "y = 2.8  \n",
    "z = 1j\n",
    "\n",
    "print(\"the type of x is\" ,type(x))\n",
    "print(\"the type of y is\",type(y))\n",
    "print(\"the type of z is\",type(z))\n"
   ]
  },
  {
   "cell_type": "code",
   "execution_count": 8,
   "metadata": {
    "colab": {
     "base_uri": "https://localhost:8080/"
    },
    "id": "AljHnQDuvT4s",
    "outputId": "4a5fc9d9-3d61-4f17-8392-e6c182e46abd"
   },
   "outputs": [
    {
     "name": "stdout",
     "output_type": "stream",
     "text": [
      "<class 'int'>\n",
      "the value of x is 1\n"
     ]
    }
   ],
   "source": [
    "# Convert flot into int \n",
    "\n",
    "X=1.4\n",
    "x=int(x )\n",
    "print(type(x))\n",
    "print(\"the value of x is\",x)"
   ]
  },
  {
   "cell_type": "code",
   "execution_count": 16,
   "metadata": {
    "id": "pXCgmrggvfKE"
   },
   "outputs": [],
   "source": [
    "#Convert from one type to another:\n",
    "\n",
    "x = 5   # int\n",
    "y = 3.8  # float\n",
    "z = 5j   # complex\n",
    "\n",
    "#convert from int to float:\n",
    "x1=float(x)\n",
    "\n",
    "#convert from float to int:\n",
    "y1=int(y)\n",
    "\n",
    "#convert from int to complex:\n",
    "z1=z.real"
   ]
  },
  {
   "cell_type": "code",
   "execution_count": 18,
   "metadata": {},
   "outputs": [
    {
     "data": {
      "text/plain": [
       "5.0"
      ]
     },
     "execution_count": 18,
     "metadata": {},
     "output_type": "execute_result"
    }
   ],
   "source": [
    "x1\n"
   ]
  },
  {
   "cell_type": "code",
   "execution_count": 19,
   "metadata": {},
   "outputs": [
    {
     "data": {
      "text/plain": [
       "3"
      ]
     },
     "execution_count": 19,
     "metadata": {},
     "output_type": "execute_result"
    }
   ],
   "source": [
    "y1"
   ]
  },
  {
   "cell_type": "code",
   "execution_count": 20,
   "metadata": {},
   "outputs": [
    {
     "data": {
      "text/plain": [
       "0.0"
      ]
     },
     "execution_count": 20,
     "metadata": {},
     "output_type": "execute_result"
    }
   ],
   "source": [
    "z1"
   ]
  },
  {
   "cell_type": "code",
   "execution_count": 24,
   "metadata": {
    "id": "Rm34yvYbweTT"
   },
   "outputs": [
    {
     "name": "stdout",
     "output_type": "stream",
     "text": [
      "7\n"
     ]
    }
   ],
   "source": [
    "# Print 15 random numbers\n",
    "\n",
    "import  numpy\n",
    "import pandas\n",
    "import random\n",
    "\n",
    "print(random.randrange(1, 15) )"
   ]
  },
  {
   "cell_type": "code",
   "execution_count": 26,
   "metadata": {},
   "outputs": [
    {
     "name": "stdout",
     "output_type": "stream",
     "text": [
      "Random number from 50-100 skip 5 is : 95\n"
     ]
    }
   ],
   "source": [
    "print (\"Random number from 50-100 skip 5 is : \",end=\"\")\n",
    "print (random.randrange(50,100,5))"
   ]
  },
  {
   "cell_type": "code",
   "execution_count": 28,
   "metadata": {},
   "outputs": [
    {
     "data": {
      "text/plain": [
       "4"
      ]
     },
     "execution_count": 28,
     "metadata": {},
     "output_type": "execute_result"
    }
   ],
   "source": [
    " random.randint(0, 10)"
   ]
  },
  {
   "cell_type": "code",
   "execution_count": 32,
   "metadata": {},
   "outputs": [
    {
     "data": {
      "text/plain": [
       "7.584581059973731"
      ]
     },
     "execution_count": 32,
     "metadata": {},
     "output_type": "execute_result"
    }
   ],
   "source": [
    "random.uniform(2.6, 7.8)"
   ]
  },
  {
   "cell_type": "code",
   "execution_count": 46,
   "metadata": {
    "id": "eXkc7b3yxYpN"
   },
   "outputs": [],
   "source": [
    "# Convert int ,float to string \n",
    "\n",
    "x = ord(\"t\") \n",
    "\n",
    "\n"
   ]
  },
  {
   "cell_type": "code",
   "execution_count": 47,
   "metadata": {},
   "outputs": [
    {
     "data": {
      "text/plain": [
       "116"
      ]
     },
     "execution_count": 47,
     "metadata": {},
     "output_type": "execute_result"
    }
   ],
   "source": [
    "x"
   ]
  },
  {
   "cell_type": "code",
   "execution_count": null,
   "metadata": {},
   "outputs": [],
   "source": []
  },
  {
   "cell_type": "code",
   "execution_count": 48,
   "metadata": {},
   "outputs": [],
   "source": [
    "y = float(4)    \n",
    "z = int(6.0)\n"
   ]
  },
  {
   "cell_type": "code",
   "execution_count": 49,
   "metadata": {},
   "outputs": [
    {
     "data": {
      "text/plain": [
       "4.0"
      ]
     },
     "execution_count": 49,
     "metadata": {},
     "output_type": "execute_result"
    }
   ],
   "source": [
    "y"
   ]
  },
  {
   "cell_type": "code",
   "execution_count": 50,
   "metadata": {},
   "outputs": [
    {
     "data": {
      "text/plain": [
       "6"
      ]
     },
     "execution_count": 50,
     "metadata": {},
     "output_type": "execute_result"
    }
   ],
   "source": [
    "z"
   ]
  },
  {
   "cell_type": "code",
   "execution_count": 51,
   "metadata": {
    "id": "RDquS0nfxB81"
   },
   "outputs": [
    {
     "name": "stdout",
     "output_type": "stream",
     "text": [
      "Assingning  string to  a variable \n"
     ]
    }
   ],
   "source": [
    "# Assign a string to variable \n",
    "\n",
    "a=\"Assingning  string to  a variable \"\n",
    "print(a)"
   ]
  },
  {
   "cell_type": "code",
   "execution_count": 55,
   "metadata": {
    "colab": {
     "base_uri": "https://localhost:8080/"
    },
    "id": "RH-g9oUdypcy",
    "outputId": "62269c11-7039-44c8-a96f-d4f4f3eeb261"
   },
   "outputs": [
    {
     "name": "stdout",
     "output_type": "stream",
     "text": [
      "Hello raj?Hi Manish.How are you.I am fine.\n"
     ]
    }
   ],
   "source": [
    "# Concatenate two string \n",
    "a=\"Hello raj?\"\n",
    "b=\"Hi Manish.\"\n",
    "c=\"How are you.\"\n",
    "d=\"I am fine.\"\n",
    "\n",
    "print(a+b+c+d)"
   ]
  },
  {
   "cell_type": "code",
   "execution_count": 60,
   "metadata": {
    "colab": {
     "base_uri": "https://localhost:8080/"
    },
    "id": "Z4z8NPqxzXsS",
    "outputId": "c936dddb-0bac-4fb0-a879-3d51da82df73"
   },
   "outputs": [
    {
     "name": "stdout",
     "output_type": "stream",
     "text": [
      "lo, Wor\n"
     ]
    }
   ],
   "source": [
    "# Print the output='lo, Wor'\n",
    "a = \"Hello, World!\"\n",
    "print(a[3:10])"
   ]
  },
  {
   "cell_type": "code",
   "execution_count": 62,
   "metadata": {
    "id": "maTfRVHrzA-2"
   },
   "outputs": [
    {
     "name": "stdout",
     "output_type": "stream",
     "text": [
      "True\n"
     ]
    }
   ],
   "source": [
    "# Check the required string/word is in the sentence of not\n",
    "\n",
    "Sentence=\"Hello Indian , I like you culture.\"\n",
    "\n",
    "print(\"like\" in Sentence)"
   ]
  },
  {
   "cell_type": "code",
   "execution_count": 63,
   "metadata": {
    "id": "eyFT8KlO0cMk"
   },
   "outputs": [
    {
     "name": "stdout",
     "output_type": "stream",
     "text": [
      "I Love \n"
     ]
    }
   ],
   "source": [
    "# Print the output='I Love'\n",
    "Sentence=\"I Love India!\"\n",
    "print(Sentence[0:7])"
   ]
  },
  {
   "cell_type": "code",
   "execution_count": 68,
   "metadata": {
    "id": "VP50WkkomLu8"
   },
   "outputs": [
    {
     "name": "stdout",
     "output_type": "stream",
     "text": [
      "I want to pay 49.95 dollars for 3 pieces of item 567.\n"
     ]
    }
   ],
   "source": [
    "#print the output: \n",
    "#I want to pay 49.95 dollars for 3 pieces of item 567\n",
    "\n",
    "quantity = 3\n",
    "itemno = 567\n",
    "price = 49.95\n",
    "myorder = \"I want to pay {2} dollars for {0} pieces of item {1}.\"\n",
    "print(myorder.format(quantity, itemno, price))"
   ]
  },
  {
   "cell_type": "code",
   "execution_count": 71,
   "metadata": {
    "id": "fcLAtZJUn8dP"
   },
   "outputs": [
    {
     "name": "stdout",
     "output_type": "stream",
     "text": [
      "We will vist America after two days.\n"
     ]
    }
   ],
   "source": [
    "# remove the error\n",
    "Sent = \"We will vist America after two days.\"\n",
    "print(Sent)"
   ]
  },
  {
   "cell_type": "code",
   "execution_count": 75,
   "metadata": {
    "colab": {
     "base_uri": "https://localhost:8080/"
    },
    "id": "NASyDsBbofMs",
    "outputId": "b20ebd1a-7ce6-4c30-a7a5-c1da915c7810"
   },
   "outputs": [
    {
     "name": "stdout",
     "output_type": "stream",
     "text": [
      " Hii Mona ,\n",
      " When will we go for holidays ?  \n"
     ]
    }
   ],
   "source": [
    "# Print the sentence after comma in next line \n",
    "Sent=\" Hii Mona ,\\n When will we go for holidays ?  \"\n",
    "print(Sent)"
   ]
  },
  {
   "cell_type": "code",
   "execution_count": 121,
   "metadata": {
    "id": "QGOrGORspHnt"
   },
   "outputs": [
    {
     "name": "stdout",
     "output_type": "stream",
     "text": [
      "['Ram', 'Sam', 'Nick']\n"
     ]
    }
   ],
   "source": [
    "# Remove the duplicate from the list \n",
    "List=[\"Ram\",'Sam','Nick','Sam']\n",
    "\n",
    "After_removing_dup_list=list(dict.fromkeys(List))\n",
    "print(After_removing_dup_list)"
   ]
  },
  {
   "cell_type": "code",
   "execution_count": 80,
   "metadata": {
    "id": "eZfO5og7qk56"
   },
   "outputs": [
    {
     "name": "stdout",
     "output_type": "stream",
     "text": [
      "mango\n"
     ]
    }
   ],
   "source": [
    "# Print last for element of list by negative Indexing \n",
    "\n",
    "Fruit_list = [\"apple\", \"banana\", \"cherry\", \"orange\", \"kiwi\", \"melon\", \"mango\"]\n",
    "print(Fruit_list[-1])"
   ]
  },
  {
   "cell_type": "code",
   "execution_count": 81,
   "metadata": {
    "id": "mPJFzwewrEij"
   },
   "outputs": [],
   "source": [
    "# Replace the first Sam from Micky\n",
    "List=[\"Ram\",'Sam','Nick','Sam']\n",
    "List[0]='Micky'"
   ]
  },
  {
   "cell_type": "code",
   "execution_count": 82,
   "metadata": {},
   "outputs": [
    {
     "data": {
      "text/plain": [
       "['Micky', 'Sam', 'Nick', 'Sam']"
      ]
     },
     "execution_count": 82,
     "metadata": {},
     "output_type": "execute_result"
    }
   ],
   "source": [
    "List"
   ]
  },
  {
   "cell_type": "code",
   "execution_count": 84,
   "metadata": {
    "id": "pSGdFz2srUMA"
   },
   "outputs": [
    {
     "data": {
      "text/plain": [
       "['Ram', 'Sam', 'Micky', 'Sam']"
      ]
     },
     "execution_count": 84,
     "metadata": {},
     "output_type": "execute_result"
    }
   ],
   "source": [
    "# Insert the Micky at 3rd index\n",
    "List=[\"Ram\",'Sam','Nick','Sam']\n",
    "\n",
    "List[2]='Micky'\n",
    "\n",
    "List"
   ]
  },
  {
   "cell_type": "code",
   "execution_count": 90,
   "metadata": {
    "id": "VwK2FyRrroiY"
   },
   "outputs": [],
   "source": [
    "# Insert Kiwi in a tuple\n",
    "\n",
    "x = (\"apple\", \"banana\", \"cherry\")\n",
    "y = list(x)\n"
   ]
  },
  {
   "cell_type": "code",
   "execution_count": 91,
   "metadata": {},
   "outputs": [
    {
     "data": {
      "text/plain": [
       "['apple', 'banana', 'cherry']"
      ]
     },
     "execution_count": 91,
     "metadata": {},
     "output_type": "execute_result"
    }
   ],
   "source": [
    "y"
   ]
  },
  {
   "cell_type": "code",
   "execution_count": 92,
   "metadata": {},
   "outputs": [
    {
     "data": {
      "text/plain": [
       "['apple', 'banana', 'cherry', 'kiwi']"
      ]
     },
     "execution_count": 92,
     "metadata": {},
     "output_type": "execute_result"
    }
   ],
   "source": [
    "y.append(\"kiwi\")\n",
    "\n",
    "y"
   ]
  },
  {
   "cell_type": "code",
   "execution_count": 93,
   "metadata": {},
   "outputs": [
    {
     "name": "stdout",
     "output_type": "stream",
     "text": [
      "('apple', 'banana', 'cherry', 'kiwi')\n"
     ]
    }
   ],
   "source": [
    "\n",
    "x = tuple(y)\n",
    "\n",
    "print(x)"
   ]
  },
  {
   "cell_type": "code",
   "execution_count": 96,
   "metadata": {
    "id": "UUky7WT4tnRM"
   },
   "outputs": [],
   "source": [
    "# Add item in set\n",
    "\n",
    "Fruits = {\"apple\", \"banana\", \"cherry\"}\n",
    "Fruits.add(\"iteam added KIWI\")\n",
    "\n"
   ]
  },
  {
   "cell_type": "code",
   "execution_count": 97,
   "metadata": {},
   "outputs": [
    {
     "data": {
      "text/plain": [
       "{'apple', 'banana', 'cherry', 'iteam added KIWI'}"
      ]
     },
     "execution_count": 97,
     "metadata": {},
     "output_type": "execute_result"
    }
   ],
   "source": [
    "Fruits"
   ]
  },
  {
   "cell_type": "code",
   "execution_count": null,
   "metadata": {},
   "outputs": [],
   "source": []
  },
  {
   "cell_type": "code",
   "execution_count": null,
   "metadata": {},
   "outputs": [],
   "source": []
  },
  {
   "cell_type": "code",
   "execution_count": 100,
   "metadata": {
    "id": "NKHoF69hueSK"
   },
   "outputs": [
    {
     "data": {
      "text/plain": [
       "{'apple', 'banana', 'cherry', 'mango', 'papaya', 'pineapple'}"
      ]
     },
     "execution_count": 100,
     "metadata": {},
     "output_type": "execute_result"
    }
   ],
   "source": [
    "# Add two set\n",
    "Fruit1 = {\"apple\", \"banana\", \"cherry\"}\n",
    "Fruit2 = {\"pineapple\", \"mango\", \"papaya\"}\n",
    "\n",
    "Fruit1.union(Fruit2)"
   ]
  },
  {
   "cell_type": "code",
   "execution_count": 106,
   "metadata": {
    "id": "Z5YUZ2dUvbwK"
   },
   "outputs": [],
   "source": [
    "# Remove the any item from the set\n",
    "set={\"Krishh\",\"Prince\",\"KUmar\"}"
   ]
  },
  {
   "cell_type": "code",
   "execution_count": 108,
   "metadata": {},
   "outputs": [],
   "source": [
    "set.remove('Krishh')"
   ]
  },
  {
   "cell_type": "code",
   "execution_count": 109,
   "metadata": {},
   "outputs": [
    {
     "data": {
      "text/plain": [
       "{'KUmar', 'Prince'}"
      ]
     },
     "execution_count": 109,
     "metadata": {},
     "output_type": "execute_result"
    }
   ],
   "source": [
    "set"
   ]
  },
  {
   "cell_type": "code",
   "execution_count": 113,
   "metadata": {
    "id": "_f_XIOsVvtz5"
   },
   "outputs": [
    {
     "name": "stdout",
     "output_type": "stream",
     "text": [
      "dict_keys(['brand', 'model', 'year'])\n",
      "dict_keys(['brand', 'model', 'year', 'Milage'])\n"
     ]
    },
    {
     "data": {
      "text/plain": [
       "dict_items([('brand', 'Bajaj'), ('model', 'TVS'), ('year', 2013), ('Milage', '50')])"
      ]
     },
     "execution_count": 113,
     "metadata": {},
     "output_type": "execute_result"
    }
   ],
   "source": [
    "#Add a new item to the original dictionary, and see that the keys list gets updated as well:\n",
    "Bike = {\n",
    "\"brand\": \"Bajaj\",\n",
    "\"model\": \"TVS\",\n",
    "\"year\": 2013\n",
    "}\n",
    "\n",
    "x = Bike.keys()\n",
    "\n",
    "print(x) #before the change\n",
    "\n",
    "Bike[\"Milage\"] = \"50\"\n",
    "\n",
    "print(x) #after the change\n",
    "\n",
    "Bike.items()"
   ]
  },
  {
   "cell_type": "code",
   "execution_count": 115,
   "metadata": {
    "id": "m8OtEPYfwaqX"
   },
   "outputs": [
    {
     "data": {
      "text/plain": [
       "{'brand': 'Ford', 'model': 'Mustang', 'year': 2008}"
      ]
     },
     "execution_count": 115,
     "metadata": {},
     "output_type": "execute_result"
    }
   ],
   "source": [
    "#Update the item from the Dict\n",
    "Car = {\n",
    "  \"brand\": \"Ford\",\n",
    "  \"model\": \"Mustang\",\n",
    "  \"year\": 1964\n",
    "}\n",
    "\n",
    "Car['year']=2008\n",
    "\n",
    "\n",
    "Car"
   ]
  },
  {
   "cell_type": "code",
   "execution_count": 120,
   "metadata": {
    "id": "IknZvic6wvIo"
   },
   "outputs": [
    {
     "name": "stdout",
     "output_type": "stream",
     "text": [
      "the keys are dict_keys(['brand', 'model', 'year'])\n"
     ]
    }
   ],
   "source": [
    "car = {\n",
    "  \"brand\": \"Ford\",\n",
    "  \"model\": \"Mustang\",\n",
    "  \"year\": 1964\n",
    "}\n",
    "car.keys()\n",
    "\n",
    "x=car.keys()\n",
    "print(\"the keys are\",x)"
   ]
  },
  {
   "cell_type": "code",
   "execution_count": null,
   "metadata": {},
   "outputs": [],
   "source": []
  }
 ],
 "metadata": {
  "colab": {
   "collapsed_sections": [],
   "name": "Basic_Dtype_home_assig.ipynb",
   "provenance": []
  },
  "kernelspec": {
   "display_name": "Python 3",
   "language": "python",
   "name": "python3"
  },
  "language_info": {
   "codemirror_mode": {
    "name": "ipython",
    "version": 3
   },
   "file_extension": ".py",
   "mimetype": "text/x-python",
   "name": "python",
   "nbconvert_exporter": "python",
   "pygments_lexer": "ipython3",
   "version": "3.8.8"
  }
 },
 "nbformat": 4,
 "nbformat_minor": 1
}
